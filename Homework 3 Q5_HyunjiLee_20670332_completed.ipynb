{
 "cells": [
  {
   "cell_type": "markdown",
   "metadata": {},
   "source": [
    "In this homework, we will look at how python can be used to analyze data using the pandas data analysis package, and how we can model data using probability distributions studied in class.\n",
    "\n",
    "We will be using a data file which has been extracted from the Iris Flower Data Set, which is perhaps the best known database to be found in the pattern recognition literature. The original dataset consists of 50 samples from each of three species of Iris (setosa, virginica and versicolor). Four features were measured from each sample: the length and the width of the sepals and petals, in centimeters. For more information, please see the following page at the UCI Machine Learning Repository: \n",
    "\n",
    "https://archive.ics.uci.edu/ml/datasets/iris\n",
    "\n",
    "In this problem, we will be working with a smaller dataset, which consideres only two types of irises: versicolor and virginica, and one random variable: petal width.\n",
    "\n",
    "Download the file \"irispetalwidth.xlsx\" from the course website to complete the homework. \n",
    "\n",
    "We recommend you use the numpy package and the scipy and matplotlib.pyplot libraries in python, as you have done in previous homeworks. We also introduce a new package: pandas, which is specifically designed for working with real data.\n",
    "\n",
    "For more information about pandas, please see https://pandas.pydata.org/ \n",
    "\n",
    "After you have completed the notebook, export it as pdf for submission. You can do this in one of two ways:\n",
    "1. Go to File, click Download as, click PDF via LaTeX (.pdf).\n",
    "2. Go to File, click Download as, click HTML (.html), then convert the html file to pdf file."
   ]
  },
  {
   "cell_type": "markdown",
   "metadata": {},
   "source": [
    "We first load the datafile using the **pandas.read_excel** function into a a **pandas.DataFrame**. "
   ]
  },
  {
   "cell_type": "code",
   "execution_count": 502,
   "metadata": {
    "scrolled": true
   },
   "outputs": [],
   "source": [
    "# load pandas, a data analysis package\n",
    "# load numpy, a scientific computing package\n",
    "# load scipy.stats, a module contains probability functions\n",
    "# load matplotlib.pyplot, a framework provides a Matlab-like plotting\n",
    "import pandas as pd\n",
    "import numpy as np\n",
    "import scipy.stats\n",
    "import matplotlib.pyplot as plt\n",
    "\n",
    "data = pd.read_excel('irispetalwidth.xlsx',index_col = 'Index')"
   ]
  },
  {
   "cell_type": "markdown",
   "metadata": {},
   "source": [
    "There are 100 entries in total in this data set.  The first 50 entries contains measurements from irises in the  **versicolor** class.  We can see a few examples using the **pandas.DataFrame.head** function, which returns the **first** few entries in the data frame."
   ]
  },
  {
   "cell_type": "code",
   "execution_count": 503,
   "metadata": {},
   "outputs": [
    {
     "data": {
      "text/html": [
       "<div>\n",
       "<style scoped>\n",
       "    .dataframe tbody tr th:only-of-type {\n",
       "        vertical-align: middle;\n",
       "    }\n",
       "\n",
       "    .dataframe tbody tr th {\n",
       "        vertical-align: top;\n",
       "    }\n",
       "\n",
       "    .dataframe thead th {\n",
       "        text-align: right;\n",
       "    }\n",
       "</style>\n",
       "<table border=\"1\" class=\"dataframe\">\n",
       "  <thead>\n",
       "    <tr style=\"text-align: right;\">\n",
       "      <th></th>\n",
       "      <th>Petal width</th>\n",
       "      <th>Class</th>\n",
       "    </tr>\n",
       "    <tr>\n",
       "      <th>Index</th>\n",
       "      <th></th>\n",
       "      <th></th>\n",
       "    </tr>\n",
       "  </thead>\n",
       "  <tbody>\n",
       "    <tr>\n",
       "      <th>1</th>\n",
       "      <td>1.4</td>\n",
       "      <td>Iris-versicolor</td>\n",
       "    </tr>\n",
       "    <tr>\n",
       "      <th>2</th>\n",
       "      <td>1.5</td>\n",
       "      <td>Iris-versicolor</td>\n",
       "    </tr>\n",
       "    <tr>\n",
       "      <th>3</th>\n",
       "      <td>1.5</td>\n",
       "      <td>Iris-versicolor</td>\n",
       "    </tr>\n",
       "    <tr>\n",
       "      <th>4</th>\n",
       "      <td>1.3</td>\n",
       "      <td>Iris-versicolor</td>\n",
       "    </tr>\n",
       "    <tr>\n",
       "      <th>5</th>\n",
       "      <td>1.5</td>\n",
       "      <td>Iris-versicolor</td>\n",
       "    </tr>\n",
       "  </tbody>\n",
       "</table>\n",
       "</div>"
      ],
      "text/plain": [
       "       Petal width            Class\n",
       "Index                              \n",
       "1              1.4  Iris-versicolor\n",
       "2              1.5  Iris-versicolor\n",
       "3              1.5  Iris-versicolor\n",
       "4              1.3  Iris-versicolor\n",
       "5              1.5  Iris-versicolor"
      ]
     },
     "execution_count": 503,
     "metadata": {},
     "output_type": "execute_result"
    }
   ],
   "source": [
    "data.head()"
   ]
  },
  {
   "cell_type": "markdown",
   "metadata": {},
   "source": [
    "The last 50 entries contain measurements of the petal width from irises in the **virginica** class.  We can can see a few examples using the **pandas.DataFrame.tail** function, which returns the **last** few entries in the data frame."
   ]
  },
  {
   "cell_type": "code",
   "execution_count": 504,
   "metadata": {},
   "outputs": [
    {
     "data": {
      "text/html": [
       "<div>\n",
       "<style scoped>\n",
       "    .dataframe tbody tr th:only-of-type {\n",
       "        vertical-align: middle;\n",
       "    }\n",
       "\n",
       "    .dataframe tbody tr th {\n",
       "        vertical-align: top;\n",
       "    }\n",
       "\n",
       "    .dataframe thead th {\n",
       "        text-align: right;\n",
       "    }\n",
       "</style>\n",
       "<table border=\"1\" class=\"dataframe\">\n",
       "  <thead>\n",
       "    <tr style=\"text-align: right;\">\n",
       "      <th></th>\n",
       "      <th>Petal width</th>\n",
       "      <th>Class</th>\n",
       "    </tr>\n",
       "    <tr>\n",
       "      <th>Index</th>\n",
       "      <th></th>\n",
       "      <th></th>\n",
       "    </tr>\n",
       "  </thead>\n",
       "  <tbody>\n",
       "    <tr>\n",
       "      <th>96</th>\n",
       "      <td>2.3</td>\n",
       "      <td>Iris-virginica</td>\n",
       "    </tr>\n",
       "    <tr>\n",
       "      <th>97</th>\n",
       "      <td>1.9</td>\n",
       "      <td>Iris-virginica</td>\n",
       "    </tr>\n",
       "    <tr>\n",
       "      <th>98</th>\n",
       "      <td>2.0</td>\n",
       "      <td>Iris-virginica</td>\n",
       "    </tr>\n",
       "    <tr>\n",
       "      <th>99</th>\n",
       "      <td>2.3</td>\n",
       "      <td>Iris-virginica</td>\n",
       "    </tr>\n",
       "    <tr>\n",
       "      <th>100</th>\n",
       "      <td>1.8</td>\n",
       "      <td>Iris-virginica</td>\n",
       "    </tr>\n",
       "  </tbody>\n",
       "</table>\n",
       "</div>"
      ],
      "text/plain": [
       "       Petal width           Class\n",
       "Index                             \n",
       "96             2.3  Iris-virginica\n",
       "97             1.9  Iris-virginica\n",
       "98             2.0  Iris-virginica\n",
       "99             2.3  Iris-virginica\n",
       "100            1.8  Iris-virginica"
      ]
     },
     "execution_count": 504,
     "metadata": {},
     "output_type": "execute_result"
    }
   ],
   "source": [
    "data.tail()"
   ]
  },
  {
   "cell_type": "markdown",
   "metadata": {},
   "source": [
    "From these lines, you should get the general idea that the petals of virginica irises are generally wider than the petals of versicolor irises.  Thus, if you observe an iris with wider petals, it is \"more likely\" to be a virginica than a versicolor.  Similarly, if you observe an iris with narrower petals, it is \"more likely\" to be a versicolor.  This assignment makes this intuition more precise using probability theory."
   ]
  },
  {
   "cell_type": "markdown",
   "metadata": {},
   "source": [
    "**Part a:** Plot the normalized histogram of the petal width for all the data without regard to which species from 0 to 3 with bin size 0.2. The normalized histogram is the count in each bin divided by the number of observations and divided by the bin width. In python, this can be selected by passing \"density=True\" into the **matplotlib.pyplot.hist** or **pandas.DataFrame.hist** functions."
   ]
  },
  {
   "cell_type": "code",
   "execution_count": 505,
   "metadata": {},
   "outputs": [
    {
     "data": {
      "text/plain": [
       "<matplotlib.axes._subplots.AxesSubplot at 0x29543d87a90>"
      ]
     },
     "execution_count": 505,
     "metadata": {},
     "output_type": "execute_result"
    },
    {
     "data": {
      "image/png": "[encoded data removed]",
      "text/plain": [
       "<Figure size 432x288 with 1 Axes>"
      ]
     },
     "metadata": {
      "needs_background": "light"
     },
     "output_type": "display_data"
    }
   ],
   "source": [
    "# put your code here\n",
    "\n",
    "\n",
    "data['Petal width'].plot.hist(bins=np.arange(0,3+1,0.2),density=True)\n"
   ]
  },
  {
   "cell_type": "markdown",
   "metadata": {},
   "source": [
    "**Part b:** Calculate empirical mean $m$ and standard deviation $\\sigma$ of the petal width over all of the data without regard to species. For a set of data $\\{r_1,r_2,⋯,r_n\\}$, the empirical mean is given by \n",
    "\n",
    "$m=\\frac{1}{n}\\sum_{i=1}^{n}r_i$\n",
    "\n",
    "and the empirical standard deviation is given by \n",
    "\n",
    "$\\sigma=\\sqrt{\\frac{1}{n-1}\\sum_{i=1}^{n}(r_i-m)^2}$\n",
    "\n",
    "If you have read the data in using the pandas package, then you can compute the mean and standard deviation easily using the **pandas.DataFrame.mean** and **pandas.DataFrame.std** functions."
   ]
  },
  {
   "cell_type": "code",
   "execution_count": 506,
   "metadata": {
    "scrolled": true
   },
   "outputs": [
    {
     "data": {
      "text/plain": [
       "1.6760000000000006"
      ]
     },
     "execution_count": 506,
     "metadata": {},
     "output_type": "execute_result"
    }
   ],
   "source": [
    "# put your code here\n",
    "m1=data['Petal width'].mean()\n",
    "m1\n"
   ]
  },
  {
   "cell_type": "code",
   "execution_count": 507,
   "metadata": {},
   "outputs": [
    {
     "data": {
      "text/plain": [
       "0.42476850498628405"
      ]
     },
     "execution_count": 507,
     "metadata": {},
     "output_type": "execute_result"
    }
   ],
   "source": [
    "sd1=data['Petal width'].std()\n",
    "sd1"
   ]
  },
  {
   "cell_type": "code",
   "execution_count": null,
   "metadata": {},
   "outputs": [],
   "source": []
  },
  {
   "cell_type": "markdown",
   "metadata": {},
   "source": [
    "**Part c:** Assume that the probability density function of the petal width, $f_X(x)$, is given by a Gaussian distribution with mean and standard deviation computed in **Part b**. You can compute values of the Gaussian distribution in python using the **scipy.stats.norm.pdf** function. Note that the Gaussian distribution is also called the normal distribution.\n",
    "\n",
    "Compare the normalized histogram in **Part a** with the plot of $f_X(x)$ by plotting both together in the same figure for $x$ from 0 to 3. Does this look like a good model of the data? "
   ]
  },
  {
   "cell_type": "code",
   "execution_count": 508,
   "metadata": {},
   "outputs": [
    {
     "data": {
      "text/plain": [
       "<matplotlib.legend.Legend at 0x29543d87160>"
      ]
     },
     "execution_count": 508,
     "metadata": {},
     "output_type": "execute_result"
    },
    {
     "data": {
      "image/png": "[encoded data removed]",
      "text/plain": [
       "<Figure size 432x288 with 1 Axes>"
      ]
     },
     "metadata": {
      "needs_background": "light"
     },
     "output_type": "display_data"
    }
   ],
   "source": [
    "# put your code here\n",
    "x = np.linspace(0,3+1,100)\n",
    "b = np.arange(0, 3 + 1, 0.2)\n",
    "\n",
    "f_R = scipy.stats.norm.pdf(x, loc = m1, scale = sd1)\n",
    "fig, ax = plt.subplots()\n",
    "data.plot.hist(bins = b, density = True, ax=ax)\n",
    "ax.plot(x, f_R, label = 'The pdf of Petal width')\n",
    "ax.legend()\n",
    "\n"
   ]
  },
  {
   "cell_type": "markdown",
   "metadata": {},
   "source": [
    "**Part c answer:** No, It is not a good model of the data because the pdf is not similar to normalized histogram."
   ]
  },
  {
   "cell_type": "markdown",
   "metadata": {},
   "source": [
    "**Part d:** Now generate plots of normalized histogram of the petal width for each species separately. You can separate data into different groups using the **pandas.DataFrame.groupby** command. Then for each group, you can use the **pandas.DataFrame.hist** command to plot the histogram."
   ]
  },
  {
   "cell_type": "code",
   "execution_count": 509,
   "metadata": {},
   "outputs": [
    {
     "data": {
      "image/png": "[encoded data removed]",
      "text/plain": [
       "<Figure size 432x288 with 1 Axes>"
      ]
     },
     "metadata": {
      "needs_background": "light"
     },
     "output_type": "display_data"
    }
   ],
   "source": [
    "# put your code here\n",
    "\n",
    "groups=data.groupby('Class')\n",
    "b=np.arange(0,3+1,0.2)\n",
    "fig,ax=plt.subplots()\n",
    "for name,group in groups:\n",
    "    group.hist(bins=b,density=True,label=name,alpha=0.5,ax=ax)\n",
    "    ax.legend()\n",
    "\n"
   ]
  },
  {
   "cell_type": "markdown",
   "metadata": {},
   "source": [
    "**Part e:** Use your knowledge of probability to model probability distributions of the petal widths given versicolor and virginica, $f_{X|species}(x|versicolor)$ and $f_{X|species}(x|virginica)$. For each species, compare the normalized histogram with the conditional density by plotting them both in the same figure for $x$ from 0 to 3. "
   ]
  },
  {
   "cell_type": "code",
   "execution_count": 510,
   "metadata": {},
   "outputs": [
    {
     "data": {
      "text/plain": [
       "<matplotlib.legend.Legend at 0x29543d3ebe0>"
      ]
     },
     "execution_count": 510,
     "metadata": {},
     "output_type": "execute_result"
    },
    {
     "data": {
      "image/png": "[encoded data removed]",
      "text/plain": [
       "<Figure size 432x288 with 1 Axes>"
      ]
     },
     "metadata": {
      "needs_background": "light"
     },
     "output_type": "display_data"
    }
   ],
   "source": [
    "# put your code here\n",
    "x = np.linspace(0,3+1,100)\n",
    "mclass=data.groupby('Class')['Petal width'].mean()\n",
    "sdclass=data.groupby('Class')['Petal width'].std()\n",
    "f_R_versicolor = scipy.stats.norm.pdf(x, loc = mclass[0], scale = sdclass[0])\n",
    "f_R_virginica = scipy.stats.norm.pdf(x, loc = mclass[1], scale = sdclass[1])\n",
    "\n",
    "groups=data.groupby('Class')['Petal width']\n",
    "b=np.arange(0,3+1,0.2)\n",
    "fig, ax = plt.subplots()\n",
    "for name, group in groups:\n",
    "    group.hist(bins = b, density = True, label = name, alpha = 0.5, ax=ax)\n",
    "ax.plot(x, f_R_versicolor)\n",
    "ax.plot(x, f_R_virginica)\n",
    "ax.legend()\n"
   ]
  },
  {
   "cell_type": "markdown",
   "metadata": {},
   "source": [
    "**Part f:** A typical pattern recognition problem is to determine whether an object (e.g. a flower) belongs to one of two different classes (e.g. versicolor or virginica) based on a measurement (e.g. petal width). The Bayes pattern classifer makes this decision by comparing the conditional probabilities of the two classes.\n",
    "\n",
    "For example, in our current example, if we let $x$ be the petal width, then the Bayes classifier will classify a flower as follows\n",
    "- If $P(\\mathrm{versicolor}|x) > P(\\mathrm{virginica}|x)$, the flower is versicolor \n",
    "- Otherwise, the flower is virginica. \n",
    "\n",
    "\n",
    "**Important:** Note that the quantities compared are **NOT** the same as those plotted in part (e) above, which are $f(x|\\mathrm{versicolor})$ and $f(x|\\mathrm{virginica})$. However, if we know the prior probabilities $P(\\mathrm{versicolor})$ and $P(\\mathrm{virginica})$, we can compute the desired quantities from Bayes rule, i.e.:\n",
    "\n",
    "$P(\\mathrm{versicolor}|x) = \\frac{f(x|\\mathrm{versicolor})*P(\\mathrm{versicolor})}{f(x)}$\n",
    "\n",
    "where by the total probability theorem\n",
    "\n",
    "$f(x) = f(x|\\mathrm{versicolor}) * P(\\mathrm{versicolor}) + f(x|\\mathrm{virginica}) * P(\\mathrm{virginica})$\n",
    "\n",
    "Since we assume only two possibilities, $P(\\mathrm{versicolor}) + P(\\mathrm{virginica}) = 1$. \n",
    "\n",
    "Similarly, for all $x$, $P(\\mathrm{versicolor}|x) + P(\\mathrm{virginica}|x) = 1$.\n",
    "\n",
    "This implies that $P(\\mathrm{versicolor}|x) > P(\\mathrm{virginica}|x)$ if and only if $P(\\mathrm{versicolor}|x) > 0.5$\n",
    "\n",
    "Plot the conditional probability $P(\\mathrm{versicolor}|x)$ for $x$ from 0 to 3.0 under two assumptions: $P(\\mathrm{versicolor}) = 0.5$, which is the situation we have in our data (the two classes are equally likely), and $P(\\mathrm{versicolor}) = 0.1$, which is the case that the versicolor irises are less common than verginica irises."
   ]
  },
  {
   "cell_type": "code",
   "execution_count": 511,
   "metadata": {},
   "outputs": [
    {
     "data": {
      "text/plain": [
       "<matplotlib.legend.Legend at 0x29543e5ad90>"
      ]
     },
     "execution_count": 511,
     "metadata": {},
     "output_type": "execute_result"
    },
    {
     "data": {
      "image/png": "[encoded data removed]",
      "text/plain": [
       "<Figure size 432x288 with 1 Axes>"
      ]
     },
     "metadata": {
      "needs_background": "light"
     },
     "output_type": "display_data"
    }
   ],
   "source": [
    "# put your code here\n",
    "x = np.linspace(0, 3+1, 100)\n",
    "\n",
    "b = np.arange(0, 3+1,0.2)\n",
    "\n",
    "c1 = f_R_versicolor * 0.5 + f_R_virginica * 0.5\n",
    "c2 = f_R_versicolor * 0.1 + f_R_virginica * 0.9\n",
    "\n",
    "R1=(f_R_versicolor * 0.5)/c1\n",
    "R2=(f_R_versicolor * 0.1)/c2\n",
    "\n",
    "fig, ax = plt.subplots()\n",
    "data.plot.hist(bins = b, density = True, ax=ax)\n",
    "ax.plot(x, R1,label='assumption1')\n",
    "ax.plot(x, R2,label='assumption2')\n",
    "ax.legend()\n"
   ]
  },
  {
   "cell_type": "markdown",
   "metadata": {},
   "source": [
    "**Part g:** Suppose you observe the petal width is 1.5cm.  What is the result of the Bayes classifier under the two assumptions about $P(\\mathrm{versicolor})$?  Why?"
   ]
  },
  {
   "cell_type": "markdown",
   "metadata": {},
   "source": [
    "**Part g answer:** The Bayes classifier classifies a flower and due to two assumption the flower would be versicolor. That is because 𝑃(versicolor|𝑥) is greater than 𝑃(virginica|𝑥) since 𝑃(versicolor|𝑥)s are larger than 0.5."
   ]
  },
  {
   "cell_type": "code",
   "execution_count": null,
   "metadata": {},
   "outputs": [],
   "source": []
  }
 ],
 "metadata": {
  "kernelspec": {
   "display_name": "Python 3",
   "language": "python",
   "name": "python3"
  },
  "language_info": {
   "codemirror_mode": {
    "name": "ipython",
    "version": 3
   },
   "file_extension": ".py",
   "mimetype": "text/x-python",
   "name": "python",
   "nbconvert_exporter": "python",
   "pygments_lexer": "ipython3",
   "version": "3.8.3"
  }
 },
 "nbformat": 4,
 "nbformat_minor": 2
}
